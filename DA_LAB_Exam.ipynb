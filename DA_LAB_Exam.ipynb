{
  "nbformat": 4,
  "nbformat_minor": 0,
  "metadata": {
    "colab": {
      "provenance": []
    },
    "kernelspec": {
      "name": "python3",
      "display_name": "Python 3"
    },
    "language_info": {
      "name": "python"
    }
  },
  "cells": [
    {
      "cell_type": "code",
      "execution_count": 1,
      "metadata": {
        "colab": {
          "base_uri": "https://localhost:8080/"
        },
        "id": "EJcQDYbeJzzG",
        "outputId": "ad49bfc3-93f7-49af-cb3d-1faa60d740c7"
      },
      "outputs": [
        {
          "output_type": "stream",
          "name": "stdout",
          "text": [
            "                  Mean  Median  Variance  Standard Deviation  Skewness  \\\n",
            "sepal_length  3.054000    3.00  0.188004            0.433594  0.334053   \n",
            "sepal_width   3.758667    4.35  3.113179            1.764420 -0.274464   \n",
            "petal_length  1.198667    1.30  0.582414            0.763161 -0.104997   \n",
            "\n",
            "              Kurtosis  \n",
            "sepal_length  0.290781  \n",
            "sepal_width  -1.401921  \n",
            "petal_length -1.339754  \n"
          ]
        }
      ],
      "source": [
        "import pandas as pd\n",
        "import numpy as np\n",
        "from scipy import stats\n",
        "\n",
        "url = \"https://archive.ics.uci.edu/ml/machine-learning-databases/iris/iris.data\"\n",
        "columns = ['sepal_length', 'sepal_width', 'petal_length', 'petal_width']\n",
        "df = pd.read_csv(url, names=columns)\n",
        "numerical_df = df.select_dtypes(include=[np.number])\n",
        "\n",
        "statistics = {\n",
        "    'Mean': numerical_df.mean(),\n",
        "    'Median': numerical_df.median(),\n",
        "    'Variance': numerical_df.var(),\n",
        "    'Standard Deviation': numerical_df.std(),\n",
        "    'Skewness': numerical_df.skew(),\n",
        "    'Kurtosis': numerical_df.kurtosis()\n",
        "}\n",
        "\n",
        "stats_df = pd.DataFrame(statistics)\n",
        "print(stats_df)"
      ]
    }
  ]
}